{
 "cells": [
  {
   "cell_type": "markdown",
   "id": "2ee40df6-870a-4d88-b9ff-19272700c700",
   "metadata": {},
   "source": [
    "# H1 Data Science Tools and Eco System"
   ]
  },
  {
   "cell_type": "markdown",
   "id": "c8a7470d-0d37-4bba-9909-6d9fe27dbfd0",
   "metadata": {},
   "source": [
    "### In this Notebook, Data Science Tools and EcoSystem are summarized"
   ]
  },
  {
   "cell_type": "markdown",
   "id": "fbc8a6dd-d5ba-41ae-926b-25f70a0a6caa",
   "metadata": {
    "jp-MarkdownHeadingCollapsed": true
   },
   "source": [
    "**Objectives:** \n",
    "Covers the basics on how and when to use a code and mark down cell\n",
    "\n",
    "- Lists popular data science tools\n",
    "\n",
    "- How to create table\n",
    "\n",
    "- How to create a ordered list\n",
    "\n",
    "\n"
   ]
  },
  {
   "cell_type": "markdown",
   "id": "2ce7b46e-5bd7-4d08-bd99-4a7e7565ff82",
   "metadata": {},
   "source": [
    "Some of the Popular languages that Date Scientists use are:\n",
    "\n",
    "1. Python\n",
    "2. R\n",
    "3. SQL"
   ]
  },
  {
   "cell_type": "markdown",
   "id": "3f1c5ff9-7668-4e82-9d8a-2f65d23bd853",
   "metadata": {},
   "source": [
    "Some of the commonly used libraries used by data scientists include:\n",
    "1. Numpy\n",
    "2. Pandas\n",
    "3. Matplotlib"
   ]
  },
  {
   "cell_type": "markdown",
   "id": "c384ea52-947f-4a43-8226-adc8732b2804",
   "metadata": {},
   "source": [
    "|Data Science Tools|\n",
    "|------------------|\n",
    "|Jupyter Notebook|\n",
    "|R Stdio|\n",
    "|Apache Spark|\n"
   ]
  },
  {
   "cell_type": "markdown",
   "id": "1d97460e-6045-4688-a8fd-cff37d4e41ef",
   "metadata": {},
   "source": [
    "### Below are a few examples of evaluating arithmetic expressions in Python"
   ]
  },
  {
   "cell_type": "code",
   "execution_count": 21,
   "id": "11489890-7de5-480c-bcec-89828c25367f",
   "metadata": {},
   "outputs": [],
   "source": [
    "# This is a simple arithmetic expression to multiiply then add integers\n"
   ]
  },
  {
   "cell_type": "code",
   "execution_count": 23,
   "id": "0413b30e-eaf4-45a3-afe0-55f6c0134017",
   "metadata": {},
   "outputs": [
    {
     "data": {
      "text/plain": [
       "17"
      ]
     },
     "execution_count": 23,
     "metadata": {},
     "output_type": "execute_result"
    }
   ],
   "source": [
    "(3*4)+5"
   ]
  },
  {
   "cell_type": "code",
   "execution_count": 25,
   "id": "7a3fad87-c06b-4089-8419-b67babde42ea",
   "metadata": {},
   "outputs": [
    {
     "data": {
      "text/plain": [
       "3.3333333333333335"
      ]
     },
     "execution_count": 25,
     "metadata": {},
     "output_type": "execute_result"
    }
   ],
   "source": [
    "#This will convert 200 minutes to hours by dividing by 60\n",
    "200/60"
   ]
  },
  {
   "cell_type": "code",
   "execution_count": null,
   "id": "c5b47c51-2331-4df8-9d96-377895a9ddf9",
   "metadata": {},
   "outputs": [],
   "source": []
  },
  {
   "cell_type": "markdown",
   "id": "8788a4ac-b7f2-49fb-aa89-ec0650c86c55",
   "metadata": {},
   "source": [
    "## Author\n",
    "Zaffer Mohammed"
   ]
  }
 ],
 "metadata": {
  "kernelspec": {
   "display_name": "Python [conda env:base] *",
   "language": "python",
   "name": "conda-base-py"
  },
  "language_info": {
   "codemirror_mode": {
    "name": "ipython",
    "version": 3
   },
   "file_extension": ".py",
   "mimetype": "text/x-python",
   "name": "python",
   "nbconvert_exporter": "python",
   "pygments_lexer": "ipython3",
   "version": "3.12.7"
  }
 },
 "nbformat": 4,
 "nbformat_minor": 5
}
